{
 "cells": [
  {
   "cell_type": "code",
   "execution_count": 1,
   "metadata": {},
   "outputs": [],
   "source": [
    "#Imports\n",
    "import pandas as pd\n",
    "import pyodbc"
   ]
  },
  {
   "cell_type": "code",
   "execution_count": 2,
   "metadata": {},
   "outputs": [],
   "source": [
    "#Def of function to select data from database\n",
    "def select_to_DF(server, DB, query):\n",
    "    sqlCommand=\"Driver={SQL Server};Server=%s;Database=%s;Trusted_Connection=yes;\" %(server,DB)\n",
    "    connection = pyodbc.connect(sqlCommand)\n",
    "    sqlCommand = query\n",
    "    df = pd.read_sql(query, connection)\n",
    "    connection.commit()\n",
    "    connection.close()\n",
    "    return df\n",
    "\n",
    "server = 'DESKTOP-T7QEG5U\\SQLEXPRESS'\n",
    "DB = 'PortfolioProject'"
   ]
  },
  {
   "cell_type": "code",
   "execution_count": 3,
   "metadata": {},
   "outputs": [],
   "source": [
    "query=f\"\"\"\n",
    "Select SUM(new_cases) as TotalCases, SUM(cast (new_deaths as int)) as TotalDeaths,\n",
    "SUM(cast(new_deaths as int))/SUM(new_cases)*100 as InfectedDeathPercentage\n",
    "From PortfolioProject..CovidDeaths\n",
    "Where continent is not null\n",
    "Order by 1,2\n",
    "      \"\"\"\n",
    "Total_Global_Numbers=select_to_DF(server,DB,query)\n",
    "Total_Global_Numbers.to_excel('Table_1.xlsx', index=False)"
   ]
  },
  {
   "cell_type": "code",
   "execution_count": 4,
   "metadata": {},
   "outputs": [],
   "source": [
    "query=f\"\"\"\n",
    "Select location, SUM(cast(new_deaths as int)) as TotalDeathCount\n",
    "From PortfolioProject..CovidDeaths\n",
    "Where continent is null and location in (select continent from PortfolioProject..CovidDeaths)\n",
    "Group by location\n",
    "Order by TotalDeathCount desc\n",
    "      \"\"\"\n",
    "Continents_Total_Deaths=select_to_DF(server,DB,query)\n",
    "Continents_Total_Deaths.to_excel('Table_2.xlsx', index=False)"
   ]
  },
  {
   "cell_type": "code",
   "execution_count": 6,
   "metadata": {},
   "outputs": [],
   "source": [
    "query=f\"\"\"\n",
    "Select location,population,MAX(total_cases) as HighestInfectionCount, MAX((total_cases/population))*100 as PercentInfected \n",
    "From PortfolioProject..CovidDeaths\n",
    "Where continent is not null and population is not null\n",
    "Group by location,population\n",
    "Having MAX(total_cases) is not null\n",
    "Order by PercentInfected desc\n",
    "\n",
    "      \"\"\"\n",
    "Counrties_Max_Infection=select_to_DF(server,DB,query)\n",
    "Counrties_Max_Infection.to_excel('Table_3.xlsx', index=False)"
   ]
  },
  {
   "cell_type": "code",
   "execution_count": 9,
   "metadata": {},
   "outputs": [],
   "source": [
    "query=f\"\"\"\n",
    "Select location, population, date, ISNULL(HighestInfectionCount, 0 ) as HighestInfectionCount , ISNULL(PercentInfected, 0 ) as  PercentInfected\n",
    "From (\n",
    "Select location, population, date, MAX(total_cases) as HighestInfectionCount, MAX(total_cases/population)*100 as PercentInfected \n",
    "From PortfolioProject..CovidDeaths\n",
    "Where continent is not null\n",
    "Group by location, population, date\n",
    ") a\n",
    "Order by PercentInfected desc \n",
    "      \"\"\"\n",
    "Counrties_Percent_Infected_by_Date=select_to_DF(server,DB,query)\n",
    "Counrties_Percent_Infected_by_Date.to_excel('Table_4.xlsx', index=False)"
   ]
  }
 ],
 "metadata": {
  "kernelspec": {
   "display_name": "Python 3.7.6 ('base')",
   "language": "python",
   "name": "python3"
  },
  "language_info": {
   "codemirror_mode": {
    "name": "ipython",
    "version": 3
   },
   "file_extension": ".py",
   "mimetype": "text/x-python",
   "name": "python",
   "nbconvert_exporter": "python",
   "pygments_lexer": "ipython3",
   "version": "3.7.6"
  },
  "orig_nbformat": 4,
  "vscode": {
   "interpreter": {
    "hash": "ad2bdc8ecc057115af97d19610ffacc2b4e99fae6737bb82f5d7fb13d2f2c186"
   }
  }
 },
 "nbformat": 4,
 "nbformat_minor": 2
}
